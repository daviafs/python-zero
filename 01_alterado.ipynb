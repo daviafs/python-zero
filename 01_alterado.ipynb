{
  "nbformat": 4,
  "nbformat_minor": 0,
  "metadata": {
    "kernelspec": {
      "display_name": "Python 3",
      "language": "python",
      "name": "python3"
    },
    "language_info": {
      "codemirror_mode": {
        "name": "ipython",
        "version": 3
      },
      "file_extension": ".py",
      "mimetype": "text/x-python",
      "name": "python",
      "nbconvert_exporter": "python",
      "pygments_lexer": "ipython3",
      "version": "3.6.7"
    },
    "colab": {
      "name": "01.ipynb",
      "provenance": [],
      "collapsed_sections": [
        "95c_4BTJG6-R",
        "ycA2ORLhG6_t",
        "JDVF0_C-G7Aa",
        "atrSBkJqG7Bv",
        "oHmwGjFBG7Cl",
        "XrDHe_ASG7Dn",
        "18q4nwQDG7EL",
        "VQsnwTtgG7Em",
        "rMf1u9xyG7FA"
      ],
      "include_colab_link": true
    }
  },
  "cells": [
    {
      "cell_type": "markdown",
      "metadata": {
        "id": "view-in-github",
        "colab_type": "text"
      },
      "source": [
        "<a href=\"https://colab.research.google.com/github/daviafs/python-zero/blob/master/01_alterado.ipynb\" target=\"_parent\"><img src=\"https://colab.research.google.com/assets/colab-badge.svg\" alt=\"Open In Colab\"/></a>"
      ]
    },
    {
      "cell_type": "markdown",
      "metadata": {
        "id": "Ye0I7ZSYG67N",
        "colab_type": "text"
      },
      "source": [
        "# Primeiros passos\n",
        "\n",
        "O interpretador Python é um cara legal que gosta de conversar, mas ele é um pouco repetitivo..\n",
        "\n",
        "Os notebooks Jupyter se comunicam com o interpretador, mandando suas mensagens e mostrando as resposta que ele dá. \n",
        "\n",
        "Clique no botão de Play para executar a célula abaixo (ou selecione a célula e aperte Shift+Enter)."
      ]
    },
    {
      "cell_type": "code",
      "metadata": {
        "id": "pO6Ez98ZG67Z",
        "colab_type": "code",
        "outputId": "56732497-b973-40c9-9faf-13123be56d49",
        "colab": {
          "base_uri": "https://localhost:8080/",
          "height": 35
        }
      },
      "source": [
        "\"Oi Python!\""
      ],
      "execution_count": 1,
      "outputs": [
        {
          "output_type": "execute_result",
          "data": {
            "text/plain": [
              "'Oi Python!'"
            ]
          },
          "metadata": {
            "tags": []
          },
          "execution_count": 1
        }
      ]
    },
    {
      "cell_type": "markdown",
      "metadata": {
        "id": "Y_JmfG-fG672",
        "colab_type": "text"
      },
      "source": [
        "## Melhorando a conversa com o interpretador\n",
        "\n",
        ">Se o interpretador apenas repete o que eu falo, pra que ele serve? 🤔\n",
        ">*, perguntou um aluno apressado.*\n",
        "\n",
        "O interpretador é mais sagaz do que parece. Teste as células abaixo:"
      ]
    },
    {
      "cell_type": "code",
      "metadata": {
        "id": "6snVcMtSG678",
        "colab_type": "code",
        "colab": {}
      },
      "source": [
        "\"Oi Python!\".upper()"
      ],
      "execution_count": 0,
      "outputs": []
    },
    {
      "cell_type": "code",
      "metadata": {
        "scrolled": true,
        "id": "9tFdaFuVG68O",
        "colab_type": "code",
        "colab": {}
      },
      "source": [
        "\"Oi Python!\".lower()"
      ],
      "execution_count": 0,
      "outputs": []
    },
    {
      "cell_type": "code",
      "metadata": {
        "id": "mCzJsEqrG68f",
        "colab_type": "code",
        "colab": {}
      },
      "source": [
        "\"Oi Python!\" + \" Tudo bom?\""
      ],
      "execution_count": 0,
      "outputs": []
    },
    {
      "cell_type": "code",
      "metadata": {
        "id": "Gc4em_nbG68w",
        "colab_type": "code",
        "colab": {}
      },
      "source": [
        "\"Oi Python!\".split()"
      ],
      "execution_count": 0,
      "outputs": []
    },
    {
      "cell_type": "markdown",
      "metadata": {
        "id": "k8zxEXqjG68_",
        "colab_type": "text"
      },
      "source": [
        "### Exercícios de fixação"
      ]
    },
    {
      "cell_type": "markdown",
      "metadata": {
        "id": "5Gyc1vXRG69D",
        "colab_type": "text"
      },
      "source": [
        "EF1 - Peça pra o interpretador dizer **\"Bom dia\"** com letras minúsculas. "
      ]
    },
    {
      "cell_type": "code",
      "metadata": {
        "id": "NehqxUfRG69I",
        "colab_type": "code",
        "colab": {}
      },
      "source": [
        ""
      ],
      "execution_count": 0,
      "outputs": []
    },
    {
      "cell_type": "markdown",
      "metadata": {
        "id": "mEd2d4hlG69W",
        "colab_type": "text"
      },
      "source": [
        "EF2 - Peça pra o interpretador dizer **\"Boa tarde\"** com letras maiúsculas. "
      ]
    },
    {
      "cell_type": "code",
      "metadata": {
        "id": "QDAN9wAkG69d",
        "colab_type": "code",
        "colab": {}
      },
      "source": [
        ""
      ],
      "execution_count": 0,
      "outputs": []
    },
    {
      "cell_type": "markdown",
      "metadata": {
        "id": "Fq0W-glvG69r",
        "colab_type": "text"
      },
      "source": [
        "EF3 - Peça pra o interpretador dizer **\"Bom dia ou Boa tarde?\"**, sendo o **\"Bom dia\"** com letras maiúsculas e o **\"boa tarde\"** com letras minúsculas. "
      ]
    },
    {
      "cell_type": "code",
      "metadata": {
        "id": "ouTD0iBFG69v",
        "colab_type": "code",
        "colab": {}
      },
      "source": [
        ""
      ],
      "execution_count": 0,
      "outputs": []
    },
    {
      "cell_type": "markdown",
      "metadata": {
        "id": "69WOBiKdG698",
        "colab_type": "text"
      },
      "source": [
        "### Exercícios complementares"
      ]
    },
    {
      "cell_type": "markdown",
      "metadata": {
        "id": "rvgo_yFEG6-A",
        "colab_type": "text"
      },
      "source": [
        "EC1 - O que você acha que a opção `split()` significa para o interpretador? Dica -- pesquise no Google Translate."
      ]
    },
    {
      "cell_type": "markdown",
      "metadata": {
        "id": "a0eSXoUWG6-F",
        "colab_type": "text"
      },
      "source": [
        "*Escreva sua resposta aqui*"
      ]
    },
    {
      "cell_type": "markdown",
      "metadata": {
        "id": "52y19bNYG6-N",
        "colab_type": "text"
      },
      "source": [
        "A gente vai estudar o `split` com mais calma depois, mas por enquanto vamos ver um pouco sobre números."
      ]
    },
    {
      "cell_type": "markdown",
      "metadata": {
        "id": "95c_4BTJG6-R",
        "colab_type": "text"
      },
      "source": [
        "## Trabalhando com números\n",
        "\n",
        "O interpretador Python também consegue lidar com números e operadores aritméticos, que podem ser usados para construir **expressões aritméticas**. \n",
        "\n",
        "As regras básicas sobre expressões aritméticas em Python são:\n",
        "\n",
        "* Em geral, a precedência dos operadores em Python segue a precedência que conhecemos da matemática. \n",
        "* Assim como na matemática, é possível usar parênteses para mudar a ordem de avaliação de uma expressão.\n",
        "* Caso reste apenas operações de mesma precedência, a expressão passa a ser avaliada da esquerda para a direita.\n",
        "\n",
        "Alguns dos operadores aritméticos disponíveis em Python estão listados abaixo. "
      ]
    },
    {
      "cell_type": "markdown",
      "metadata": {
        "id": "51kD7lsoG6-W",
        "colab_type": "text"
      },
      "source": [
        "| Símbolo | Operação |\n",
        "|:----:|---|\n",
        "| +  | Adição |\n",
        "| -  | Subtração |\n",
        "| /  | Divisão |\n",
        "| // | Divisão inteira |\n",
        "| %  | Resto |\n",
        "| *  | Multiplicação |\n",
        "| **  | Exponenciação |"
      ]
    },
    {
      "cell_type": "markdown",
      "metadata": {
        "id": "wlWIFGuxG6-b",
        "colab_type": "text"
      },
      "source": [
        "Teste as células abaixo:"
      ]
    },
    {
      "cell_type": "code",
      "metadata": {
        "id": "tK8mFbNEG6-f",
        "colab_type": "code",
        "colab": {}
      },
      "source": [
        "1+2+5"
      ],
      "execution_count": 0,
      "outputs": []
    },
    {
      "cell_type": "code",
      "metadata": {
        "id": "DnC2YWzyG6-s",
        "colab_type": "code",
        "colab": {}
      },
      "source": [
        "2-1"
      ],
      "execution_count": 0,
      "outputs": []
    },
    {
      "cell_type": "code",
      "metadata": {
        "id": "AzAmQMy7G6-5",
        "colab_type": "code",
        "colab": {}
      },
      "source": [
        "1*2"
      ],
      "execution_count": 0,
      "outputs": []
    },
    {
      "cell_type": "code",
      "metadata": {
        "scrolled": true,
        "id": "gQfnATc3G6_H",
        "colab_type": "code",
        "colab": {}
      },
      "source": [
        "3/4"
      ],
      "execution_count": 0,
      "outputs": []
    },
    {
      "cell_type": "code",
      "metadata": {
        "id": "V54LdLIIG6_T",
        "colab_type": "code",
        "colab": {}
      },
      "source": [
        "2 ** 3"
      ],
      "execution_count": 0,
      "outputs": []
    },
    {
      "cell_type": "markdown",
      "metadata": {
        "id": "73_-QmuAG6_h",
        "colab_type": "text"
      },
      "source": [
        "No entanto, você não deve misturar textos e números:"
      ]
    },
    {
      "cell_type": "code",
      "metadata": {
        "scrolled": true,
        "id": "FnCZirvFG6_l",
        "colab_type": "code",
        "colab": {}
      },
      "source": [
        "\"Este é um texto\" + 3"
      ],
      "execution_count": 0,
      "outputs": []
    },
    {
      "cell_type": "markdown",
      "metadata": {
        "id": "ycA2ORLhG6_t",
        "colab_type": "text"
      },
      "source": [
        "### Exercícios de fixação"
      ]
    },
    {
      "cell_type": "markdown",
      "metadata": {
        "id": "q9nj5sxxG6_z",
        "colab_type": "text"
      },
      "source": [
        "EF4 - Calcule o produto dos números 11 e 12."
      ]
    },
    {
      "cell_type": "code",
      "metadata": {
        "id": "nLeiRIeBG6_1",
        "colab_type": "code",
        "colab": {}
      },
      "source": [
        ""
      ],
      "execution_count": 0,
      "outputs": []
    },
    {
      "cell_type": "markdown",
      "metadata": {
        "id": "ydibSxgEG7AA",
        "colab_type": "text"
      },
      "source": [
        "EF5 - Calcule o quadrado do número 16."
      ]
    },
    {
      "cell_type": "code",
      "metadata": {
        "id": "mD7VtLdNG7AE",
        "colab_type": "code",
        "colab": {}
      },
      "source": [
        ""
      ],
      "execution_count": 0,
      "outputs": []
    },
    {
      "cell_type": "markdown",
      "metadata": {
        "id": "XfRHxwEIG7AO",
        "colab_type": "text"
      },
      "source": [
        "EF6 - Calcule a raiz quadrada de 1024."
      ]
    },
    {
      "cell_type": "code",
      "metadata": {
        "id": "TSGo-o_SG7AS",
        "colab_type": "code",
        "colab": {}
      },
      "source": [
        ""
      ],
      "execution_count": 0,
      "outputs": []
    },
    {
      "cell_type": "markdown",
      "metadata": {
        "id": "JDVF0_C-G7Aa",
        "colab_type": "text"
      },
      "source": [
        "### Exercícios complementares\n",
        "\n",
        "Os operadores // e % trabalham com divisão inteira. Por exemplo, dividir 15 por 10 considerando apenas número inteiros é igual a 1. O resto da divisão é igual a 15 - (10*1), ou seja, 5."
      ]
    },
    {
      "cell_type": "code",
      "metadata": {
        "scrolled": true,
        "id": "C0oao-9wG7Ad",
        "colab_type": "code",
        "colab": {}
      },
      "source": [
        "15//10"
      ],
      "execution_count": 0,
      "outputs": []
    },
    {
      "cell_type": "code",
      "metadata": {
        "scrolled": true,
        "id": "E0DloaNWG7Aq",
        "colab_type": "code",
        "colab": {}
      },
      "source": [
        "15%10"
      ],
      "execution_count": 0,
      "outputs": []
    },
    {
      "cell_type": "markdown",
      "metadata": {
        "id": "rEMJndxzG7A0",
        "colab_type": "text"
      },
      "source": [
        "EC2 - Calcule o resto da divisão de 227 por 20."
      ]
    },
    {
      "cell_type": "code",
      "metadata": {
        "id": "bJxxGLS6G7A3",
        "colab_type": "code",
        "colab": {}
      },
      "source": [
        ""
      ],
      "execution_count": 0,
      "outputs": []
    },
    {
      "cell_type": "markdown",
      "metadata": {
        "id": "Z9vqYUclG7A_",
        "colab_type": "text"
      },
      "source": [
        "# Valores, nomes e variáveis"
      ]
    },
    {
      "cell_type": "markdown",
      "metadata": {
        "id": "HvVy5BsJG7BD",
        "colab_type": "text"
      },
      "source": [
        "Em Python, tanto textos como números são chamados de *valores*. \n",
        "\n",
        "Podemos nos referir a valores usando *nomes*. \n",
        "\n",
        ">Em outras linguagens, usa-se o termo **variável** em vez de nome. Vamos adotar este termo aqui por ele ser mais universal.\n",
        "\n",
        "Teste as células abaixo:"
      ]
    },
    {
      "cell_type": "code",
      "metadata": {
        "scrolled": true,
        "id": "zZm43tnxG7BG",
        "colab_type": "code",
        "colab": {}
      },
      "source": [
        "x = 2          # qualquer coisa após o # é um comentário\n",
        "y = 5\n",
        "x + y"
      ],
      "execution_count": 0,
      "outputs": []
    },
    {
      "cell_type": "markdown",
      "metadata": {
        "id": "qJIZdvxCG7BQ",
        "colab_type": "text"
      },
      "source": [
        "Múltiplas variáveis podem estar associadas ao mesmo valor."
      ]
    },
    {
      "cell_type": "code",
      "metadata": {
        "id": "adLlvxK_G7BU",
        "colab_type": "code",
        "colab": {}
      },
      "source": [
        "x = y = 1\n",
        "y"
      ],
      "execution_count": 0,
      "outputs": []
    },
    {
      "cell_type": "code",
      "metadata": {
        "id": "bsnDE4q3G7Bf",
        "colab_type": "code",
        "colab": {}
      },
      "source": [
        "texto = 'Este é um texto.' # textos podem ser escritos entre aspas simples\n",
        "texto"
      ],
      "execution_count": 0,
      "outputs": []
    },
    {
      "cell_type": "code",
      "metadata": {
        "id": "j2i4g5CFG7Bm",
        "colab_type": "code",
        "colab": {}
      },
      "source": [
        "outro_texto = \"Este é outro texto.\" # textos podem ser escritos entre aspas duplas\n",
        "outro_texto"
      ],
      "execution_count": 0,
      "outputs": []
    },
    {
      "cell_type": "markdown",
      "metadata": {
        "id": "atrSBkJqG7Bv",
        "colab_type": "text"
      },
      "source": [
        "### Exercícios de fixação\n",
        "\n",
        "Para verificar que seu código está correto, lembre-se de acrescentar uma linha contendo apenas o nome da variável para visualizar o valor associado a ela."
      ]
    },
    {
      "cell_type": "markdown",
      "metadata": {
        "id": "z3boonaFG7Bx",
        "colab_type": "text"
      },
      "source": [
        "EF7 - Associe uma variável `numero` ao número `10`."
      ]
    },
    {
      "cell_type": "code",
      "metadata": {
        "id": "puVfmSRrG7Bz",
        "colab_type": "code",
        "colab": {}
      },
      "source": [
        ""
      ],
      "execution_count": 0,
      "outputs": []
    },
    {
      "cell_type": "markdown",
      "metadata": {
        "id": "QLdPUTlOG7B7",
        "colab_type": "text"
      },
      "source": [
        "EF8 - Associe uma variável `nome` ao texto `Python`."
      ]
    },
    {
      "cell_type": "code",
      "metadata": {
        "id": "gk8NROSRG7B9",
        "colab_type": "code",
        "colab": {}
      },
      "source": [
        ""
      ],
      "execution_count": 0,
      "outputs": []
    },
    {
      "cell_type": "markdown",
      "metadata": {
        "id": "yE7Fv76cG7CF",
        "colab_type": "text"
      },
      "source": [
        "EF9 - Associe uma variável `resto` ao resultado do operação de resto entre `234` e `10`."
      ]
    },
    {
      "cell_type": "code",
      "metadata": {
        "id": "CfeuQFwfG7CI",
        "colab_type": "code",
        "colab": {}
      },
      "source": [
        ""
      ],
      "execution_count": 0,
      "outputs": []
    },
    {
      "cell_type": "markdown",
      "metadata": {
        "id": "ufweEckpG7CP",
        "colab_type": "text"
      },
      "source": [
        "EF10 - Associe uma variável `k` ao valor `8`. Associe uma variável `quadrado_k` ao quadrado do valor associado à variável `k`."
      ]
    },
    {
      "cell_type": "code",
      "metadata": {
        "id": "FF09L0tkG7CR",
        "colab_type": "code",
        "colab": {}
      },
      "source": [
        ""
      ],
      "execution_count": 0,
      "outputs": []
    },
    {
      "cell_type": "markdown",
      "metadata": {
        "id": "5autf1vXG7Ca",
        "colab_type": "text"
      },
      "source": [
        "EF11 - Associe uma váriavel `z` ao valor `256`. Associe uma variável `divisao_zk` ao resultado da divisão entre os valores associados às variáveis `z` e `k`."
      ]
    },
    {
      "cell_type": "code",
      "metadata": {
        "id": "UOmKxSU-G7Cc",
        "colab_type": "code",
        "colab": {}
      },
      "source": [
        ""
      ],
      "execution_count": 0,
      "outputs": []
    },
    {
      "cell_type": "markdown",
      "metadata": {
        "id": "oHmwGjFBG7Cl",
        "colab_type": "text"
      },
      "source": [
        "## Dados informados pelo usuário"
      ]
    },
    {
      "cell_type": "markdown",
      "metadata": {
        "id": "AcXFm-GqG7Cn",
        "colab_type": "text"
      },
      "source": [
        "O procedimento `input()` solicita ao usuário dados que podem ser associados a variáveis. É possível personalizar a mensagem de solicitação, como mostrado abaixo."
      ]
    },
    {
      "cell_type": "code",
      "metadata": {
        "id": "BbfCu819G7Cq",
        "colab_type": "code",
        "colab": {}
      },
      "source": [
        "texto_usuario =  input(\"Diga um valor: \")\n",
        "texto_usuario"
      ],
      "execution_count": 0,
      "outputs": []
    },
    {
      "cell_type": "markdown",
      "metadata": {
        "id": "6O7qBOI1G7Cw",
        "colab_type": "text"
      },
      "source": [
        "Por padrão, qualquer dado passada pelo usuário será tratado como texto. Para tratá-lo como um valor numérico, você deve usar os procedimentos `int()` ou `float()`, dependendo de serem números inteiros ou reais."
      ]
    },
    {
      "cell_type": "code",
      "metadata": {
        "id": "7pEmMvDvG7DX",
        "colab_type": "code",
        "colab": {}
      },
      "source": [
        "inteiro = int(input(\"Diga um valor inteiro: \"))\n",
        "inteiro + 1"
      ],
      "execution_count": 0,
      "outputs": []
    },
    {
      "cell_type": "code",
      "metadata": {
        "id": "8KVzQtceG7Dd",
        "colab_type": "code",
        "colab": {}
      },
      "source": [
        "real = float(input(\"Diga um valor real: \"))\n",
        "real + 1"
      ],
      "execution_count": 0,
      "outputs": []
    },
    {
      "cell_type": "markdown",
      "metadata": {
        "id": "XrDHe_ASG7Dn",
        "colab_type": "text"
      },
      "source": [
        "### Exercícios de fixação"
      ]
    },
    {
      "cell_type": "markdown",
      "metadata": {
        "id": "eCMuu_t3G7Dp",
        "colab_type": "text"
      },
      "source": [
        "EF12 - Solicite ao usuário *seu nome* e o associe a uma variavél chamada `nome`."
      ]
    },
    {
      "cell_type": "code",
      "metadata": {
        "id": "-hgCKYP0G7Dr",
        "colab_type": "code",
        "colab": {}
      },
      "source": [
        ""
      ],
      "execution_count": 0,
      "outputs": []
    },
    {
      "cell_type": "markdown",
      "metadata": {
        "id": "kjoZrWI4G7Dz",
        "colab_type": "text"
      },
      "source": [
        "EF13 - Solicite ao usuário *sua idade* e a associe a uma variável chamada `idade`."
      ]
    },
    {
      "cell_type": "code",
      "metadata": {
        "id": "cw6yXRtCG7D3",
        "colab_type": "code",
        "colab": {}
      },
      "source": [
        ""
      ],
      "execution_count": 0,
      "outputs": []
    },
    {
      "cell_type": "markdown",
      "metadata": {
        "id": "DTgykEdgG7D-",
        "colab_type": "text"
      },
      "source": [
        "EF14 - Solicite ao usuário *sua altura* e a associe a uma variável chamada `altura`."
      ]
    },
    {
      "cell_type": "code",
      "metadata": {
        "id": "WysKyXeCG7EA",
        "colab_type": "code",
        "colab": {}
      },
      "source": [
        ""
      ],
      "execution_count": 0,
      "outputs": []
    },
    {
      "cell_type": "markdown",
      "metadata": {
        "id": "18q4nwQDG7EL",
        "colab_type": "text"
      },
      "source": [
        "## Informando dados ao usuário"
      ]
    },
    {
      "cell_type": "markdown",
      "metadata": {
        "id": "EfVN6TzUG7EO",
        "colab_type": "text"
      },
      "source": [
        "Assim como é possível receber dados do usuário, também é possível informar dados ao usuário.\n",
        "\n",
        "Para isto, usamos o procedimento `print()`."
      ]
    },
    {
      "cell_type": "code",
      "metadata": {
        "id": "4KYkqJNLG7EP",
        "colab_type": "code",
        "colab": {}
      },
      "source": [
        "print(texto)"
      ],
      "execution_count": 0,
      "outputs": []
    },
    {
      "cell_type": "markdown",
      "metadata": {
        "id": "hZa97YCvG7EW",
        "colab_type": "text"
      },
      "source": [
        "É possível informar os valores associados a múltiplas variáveis com uma única chamada ao procedimento `print()`. "
      ]
    },
    {
      "cell_type": "code",
      "metadata": {
        "id": "7tFj8GteG7EY",
        "colab_type": "code",
        "colab": {}
      },
      "source": [
        "print(texto, x)"
      ],
      "execution_count": 0,
      "outputs": []
    },
    {
      "cell_type": "markdown",
      "metadata": {
        "id": "Y6T9ovOBG7Eg",
        "colab_type": "text"
      },
      "source": [
        "Também é possível informar textos, valores e o resultado de expressões:"
      ]
    },
    {
      "cell_type": "code",
      "metadata": {
        "id": "PZsOO5vyG7Ei",
        "colab_type": "code",
        "colab": {}
      },
      "source": [
        "print(\"Testando\", 3, x + y)"
      ],
      "execution_count": 0,
      "outputs": []
    },
    {
      "cell_type": "markdown",
      "metadata": {
        "id": "VQsnwTtgG7Em",
        "colab_type": "text"
      },
      "source": [
        "### Exercícios de fixação"
      ]
    },
    {
      "cell_type": "markdown",
      "metadata": {
        "id": "67qzJiE6G7Eo",
        "colab_type": "text"
      },
      "source": [
        "EF15 - Informe ao usuário **seu nome**."
      ]
    },
    {
      "cell_type": "code",
      "metadata": {
        "id": "o6K-HVvCG7Er",
        "colab_type": "code",
        "colab": {}
      },
      "source": [
        ""
      ],
      "execution_count": 0,
      "outputs": []
    },
    {
      "cell_type": "markdown",
      "metadata": {
        "id": "amQMtvT9G7Ex",
        "colab_type": "text"
      },
      "source": [
        "EF16 - Informe ao usuário **sua idade**."
      ]
    },
    {
      "cell_type": "code",
      "metadata": {
        "id": "8e6X2XrwG7E0",
        "colab_type": "code",
        "colab": {}
      },
      "source": [
        ""
      ],
      "execution_count": 0,
      "outputs": []
    },
    {
      "cell_type": "markdown",
      "metadata": {
        "id": "_PEWIUllG7E5",
        "colab_type": "text"
      },
      "source": [
        "EF17 - Informe ao usuário **seu índice de massa corporal (IMC)**. Para isso, solicite ao usuário seu peso."
      ]
    },
    {
      "cell_type": "code",
      "metadata": {
        "id": "aVxbpwOYG7E7",
        "colab_type": "code",
        "colab": {}
      },
      "source": [
        ""
      ],
      "execution_count": 0,
      "outputs": []
    },
    {
      "cell_type": "markdown",
      "metadata": {
        "id": "rMf1u9xyG7FA",
        "colab_type": "text"
      },
      "source": [
        "## Exercícios do URI"
      ]
    },
    {
      "cell_type": "markdown",
      "metadata": {
        "id": "oMhbhyFHG7FC",
        "colab_type": "text"
      },
      "source": [
        "O URI é um juiz online utilizado em treinamentos para competições de programação.\n",
        "\n",
        "Nesta disciplina, utilizaremos exercícios inspirados na seção **Iniciante**, adaptados para o nosso contexto.\n",
        "\n",
        "Para ver a descrição do exercício em sua versão original do URI, clique no seu número."
      ]
    },
    {
      "cell_type": "markdown",
      "metadata": {
        "id": "Lfj79MosG7FG",
        "colab_type": "text"
      },
      "source": [
        "[1008](https://www.urionlinejudge.com.br/judge/pt/problems/view/1008) - Um sistema do setor de recursos humanos de uma empresa deve calcular o salário a ser pago para cada funcionário da empresa em função de quantas horas o funcionário trabalhou no mês e de quanto ele recebe por hora trabalhada.\n",
        "\n",
        "Escreva um código Python que leia o nome de um funcionário, seu número de horas trabalhadas, o valor que recebe por hora e calcula seu salário. Em seguida, mostre o nome e o salário do funcionário."
      ]
    },
    {
      "cell_type": "markdown",
      "metadata": {
        "id": "ytTx7YZOG7FI",
        "colab_type": "text"
      },
      "source": [
        "|.| Entrada | Saída |\n",
        "|-|----|---|\n",
        "| *Exemplo 1* | João 100 5.50  | João 550.00 | \n",
        "| *Exemplo 2* | Maria 200 20.50 | Maria 4100.00 |\n",
        "| *Exemplo 3* | Facebookson 145 15.55 | Facebookson 2254.75 |"
      ]
    },
    {
      "cell_type": "code",
      "metadata": {
        "id": "1s4ILmjkG7FK",
        "colab_type": "code",
        "colab": {}
      },
      "source": [
        ""
      ],
      "execution_count": 0,
      "outputs": []
    },
    {
      "cell_type": "markdown",
      "metadata": {
        "id": "iDByrEoKG7FR",
        "colab_type": "text"
      },
      "source": [
        "[1009](https://www.urionlinejudge.com.br/judge/pt/problems/view/1009) - No caso de empresas do setor de comércio, a remuneração mensal de cada vendedor é composta por um salário fixo mais uma bonificação proporcional às vendas efetuadas pelo vendedor naquele mês.\n",
        "\n",
        "Escreva um código Python que leia o nome de um vendedor, o seu salário fixo e o total de vendas efetuadas por ele no mês (em dinheiro). Sabendo que este vendedor ganha 15% de comissão sobre suas vendas efetuadas, informe o total que ele deverá receber no final do mês."
      ]
    },
    {
      "cell_type": "markdown",
      "metadata": {
        "id": "wCmh_0IiG7FW",
        "colab_type": "text"
      },
      "source": [
        "|.| Entrada | Saída |\n",
        "|-|----|---|\n",
        "| *Exemplo 1* | João 500 1230.30  | João 684.54 | \n",
        "| *Exemplo 2* | Pedro 700 0.00 | Pedro 700.00 |\n",
        "| *Exemplo 3* | Mangojata 1700 1230.50 | Mangojata 1884.58 |"
      ]
    },
    {
      "cell_type": "code",
      "metadata": {
        "id": "w570MdT8G7FY",
        "colab_type": "code",
        "colab": {}
      },
      "source": [
        ""
      ],
      "execution_count": 0,
      "outputs": []
    },
    {
      "cell_type": "markdown",
      "metadata": {
        "id": "W4bYMm9rG7Fg",
        "colab_type": "text"
      },
      "source": [
        "[1010](https://www.urionlinejudge.com.br/judge/pt/problems/view/1010) - Outro tipo de sistema utilizado no setor de comércio é o sistema de frente de loja, que calcula o total de uma venda baseado nos itens adquiridos, suas quantidades e seus valores unitários.\n",
        "\n",
        "Escreva um código Python que leia as informações de dois produtos adquiridos em uma compra e informe o valor a ser pago. Para cada produto, leia seu código, sua quantidade e seu valor unitário."
      ]
    },
    {
      "cell_type": "markdown",
      "metadata": {
        "id": "3iyejo-GG7Fh",
        "colab_type": "text"
      },
      "source": [
        "|.| Entrada | Saída |\n",
        "|-|----|---|\n",
        "| *Exemplo 1* | 12 1 5.30 <br> 16 2 5.10 | VALOR A PAGAR: 15.50 |\n",
        "| *Exemplo 2* | 13 2 15.30 <br> 161 4 5.20 | VALOR A PAGAR: 51.40 |\n",
        "| *Exemplo 3* | 1 1 15.10 <br> 2 1 15.10 | VALOR A PAGAR: 30.20 |"
      ]
    },
    {
      "cell_type": "code",
      "metadata": {
        "id": "0IQrDei3G7Fj",
        "colab_type": "code",
        "colab": {}
      },
      "source": [
        ""
      ],
      "execution_count": 0,
      "outputs": []
    },
    {
      "cell_type": "markdown",
      "metadata": {
        "id": "3vz7L1CXG7Fn",
        "colab_type": "text"
      },
      "source": [
        "[1018](https://www.urionlinejudge.com.br/judge/pt/problems/view/1018) - Sistemas de frente de loja também devem auxiliar vendedores a dar trocos. Por simplicidade, vamos considerar primeiro apenas trocos inteiros, que podem ser dados usando apenas cédulas.\n",
        "\n",
        "Escreva um código Python que leia um valor de troco e informe quantas cédulas de cada valor devem ser entregues pelo vendedor ao cliente.\n",
        "\n",
        "**Obs.:** Considere que ainda existem notas de R$ 1,00."
      ]
    },
    {
      "cell_type": "markdown",
      "metadata": {
        "id": "3ehh4XjQG7Fq",
        "colab_type": "text"
      },
      "source": [
        "|.| Entrada | Saída |\n",
        "|-|----|---|\n",
        "| *Exemplo 1* | 576 | 5 nota(s) de 100,00 <br /> 1 nota(s) de 50,00 <br /> 1 nota(s) de 20,00 <br /> 0 nota(s) de 10,00 <br /> 1 nota(s) de 5,00  <br /> 0 nota(s) de 2,00  <br /> 1 nota(s) de 1,00 |\n",
        "| *Exemplo 2* | 11257 | 112 nota(s) de 100,00 <br /> 1 nota(s) de 50,00 <br /> 0 nota(s) de 20,00 <br /> 0 nota(s) de 10,00 <br /> 1 nota(s) de 5,00 <br /> 1 nota(s) de 2,00 <br /> 0 nota(s) de 1,00 |\n",
        "| *Exemplo 3* | 503 | 5 nota(s) de 100,00 <br /> 0 nota(s) de 50,00 <br /> 0 nota(s) de 20,00 <br /> 0 nota(s) de 10,00 <br /> 0 nota(s) de 5,00 <br /> 1 nota(s) de 2,00 <br /> 1 nota(s) de 1,00 |"
      ]
    },
    {
      "cell_type": "code",
      "metadata": {
        "scrolled": true,
        "id": "klTK4l-2G7Fs",
        "colab_type": "code",
        "colab": {}
      },
      "source": [
        ""
      ],
      "execution_count": 0,
      "outputs": []
    },
    {
      "cell_type": "markdown",
      "metadata": {
        "id": "Nn4gwMyYG7Fw",
        "colab_type": "text"
      },
      "source": [
        "[1021](https://www.urionlinejudge.com.br/judge/pt/problems/view/1021) - Agora vamos voltar ao mundo real, onde trocos podem precisar utilizar cédulas e moedas.\n",
        "\n",
        "Escreva um código Python que leia um valor de troco e informe quantas cédulas e moedas de cada valor devem ser entregues pelo vendedor ao cliente.\n",
        "\n",
        "**Obs.:** Considere que ainda existem moedas de R$ 0,01."
      ]
    },
    {
      "cell_type": "markdown",
      "metadata": {
        "id": "qrXXVlKSG7Fz",
        "colab_type": "text"
      },
      "source": [
        "|.| Entrada | Saída |\n",
        "|-|----|---|\n",
        "| *Exemplo 1* | 576.73 | NOTAS: <br /> 5 nota(s) de 100,00 <br /> 1 nota(s) de 50,00 <br /> 1 nota(s) de 20,00 <br /> 0 nota(s) de 10,00 <br /> 1 nota(s) de 5,00  <br /> 0 nota(s) de 2,00  <br /> MOEDAS: <br /> 1 moeda(s) de 1,00 <br /> 1 moeda(s) de 0,50 <br /> 0 moeda(s) de 0,25 <br /> 2 moeda(s) de 0,10 <br /> 0 moeda(s) de 0,05 <br /> 3 moeda(s) de 0,01 |\n",
        "| *Exemplo 2* | 4.00 | NOTAS: <br /> 0 nota(s) de 100,00 <br /> 0 nota(s) de 50,00 <br /> 0 nota(s) de 20,00 <br /> 0 nota(s) de 10,00 <br /> 0 nota(s) de 5,00  <br /> 2 nota(s) de 2,00 <br /> MOEDAS: <br /> 0 moeda(s) de 1,00 <br /> 0 moeda(s) de 0,50 <br /> 0 moeda(s) de 0,25 <br /> 0 moeda(s) de 0,10 <br /> 0 moeda(s) de 0,05 <br /> 0 moeda(s) de 0,01 |\n",
        "| *Exemplo 3* | 91.01 | NOTAS: <br /> 0 nota(s) de 100,00 <br /> 1 nota(s) de 50,00 <br /> 2 nota(s) de 20,00 <br /> 0 nota(s) de 10,00 <br /> 0 nota(s) de 5,00  <br /> 0 nota(s) de 2,00 <br /> MOEDAS: <br /> 1 moeda(s) de 1,00 <br /> 0 moeda(s) de 0,50 <br /> 0 moeda(s) de 0,25 <br /> 0 moeda(s) de 0,10 <br /> 0 moeda(s) de 0,05 <br /> 1 moeda(s) de 0,01 |"
      ]
    },
    {
      "cell_type": "code",
      "metadata": {
        "id": "lRaeLhciG7F1",
        "colab_type": "code",
        "colab": {}
      },
      "source": [
        ""
      ],
      "execution_count": 0,
      "outputs": []
    },
    {
      "cell_type": "markdown",
      "metadata": {
        "id": "_q-vGqrEG7F5",
        "colab_type": "text"
      },
      "source": [
        "[1019](https://www.urionlinejudge.com.br/judge/pt/problems/view/1019) - Sistemas de frente de loja também precisam registrar a data e o horário das vendas. \n",
        "\n",
        "Computadores normalmente armazenam datas utilizando uma única unidade de tempo, convertendo para o formato de apresentação desejado quando necessário. Por simplicidade, considere neste exercício que o dado informado representa apenas o horário da venda.\n",
        "\n",
        "Escreva um código Python que leia um valor em segundos e o converta para o formato *horas:minutos:segundos*.\n",
        "\n",
        "**Dica 1 --** a opção sep do procedimento print() permite configurar o caracter de separação entre as diferentes partes de uma impressão, como no exemplo abaixo."
      ]
    },
    {
      "cell_type": "code",
      "metadata": {
        "scrolled": true,
        "id": "VOZlaaewG7F7",
        "colab_type": "code",
        "colab": {}
      },
      "source": [
        "print(10,33,51,sep=\":\")"
      ],
      "execution_count": 0,
      "outputs": []
    },
    {
      "cell_type": "markdown",
      "metadata": {
        "id": "ZC6h6W6rG7GB",
        "colab_type": "text"
      },
      "source": [
        "**Dica 2 --** é possível utilizar o procedimento print para impressão formatada. Pesquise o funcionamento da máscara de formatação abaixo:"
      ]
    },
    {
      "cell_type": "code",
      "metadata": {
        "id": "fdpkEQjVG7GD",
        "colab_type": "code",
        "colab": {}
      },
      "source": [
        "print(\"%02d:%02d:%02d\" % (9,33,51))"
      ],
      "execution_count": 0,
      "outputs": []
    },
    {
      "cell_type": "markdown",
      "metadata": {
        "id": "TAbTpSOoG7GJ",
        "colab_type": "text"
      },
      "source": [
        "|.| Entrada | Saída |\n",
        "|-|----|---|\n",
        "| *Exemplo 1* | 556  | 00:09:16 | \n",
        "| *Exemplo 2* | 1 | 00:00:01 |\n",
        "| *Exemplo 3* | 86153 | 23:55:53 |"
      ]
    }
  ]
}